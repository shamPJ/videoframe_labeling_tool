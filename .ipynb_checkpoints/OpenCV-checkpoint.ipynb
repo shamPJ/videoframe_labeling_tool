{
 "cells": [
  {
   "cell_type": "code",
   "execution_count": 1,
   "metadata": {},
   "outputs": [],
   "source": [
    "import cv2\n",
    "import numpy as np\n",
    "import pandas as pd\n",
    "import matplotlib.pyplot as plt"
   ]
  },
  {
   "cell_type": "code",
   "execution_count": 12,
   "metadata": {},
   "outputs": [],
   "source": [
    "behaviors  = ['rearing','rearing wall','seated rearing','seated wall rearing',\n",
    "             'grooming','paws to nose/head','paws to butt',\n",
    "             'climb','jump','shake','rotation','sniffing']\n",
    "behCodes   = ['r','w','s','v','g','p','b','c','j','h','o','f']\n",
    "\n",
    "behWinText = ''\n",
    "for code, beh in zip(behCodes, behaviors):\n",
    "    behWinText = behWinText + code +'-'+ beh + '\\n'"
   ]
  },
  {
   "cell_type": "code",
   "execution_count": 9,
   "metadata": {},
   "outputs": [
    {
     "name": "stdout",
     "output_type": "stream",
     "text": [
      "Number of frames: 2002.0\n",
      "Fps: 25.0\n"
     ]
    }
   ],
   "source": [
    "videoFile = 'videoFile.MPG'\n",
    "cap       = cv2.VideoCapture(videoFile)\n",
    "length    = int(cap.get(cv2.CAP_PROP_FRAME_COUNT))\n",
    "print(\"Number of frames: {}\\nFps: {}\"\n",
    "           .format(cap.get(cv2.CAP_PROP_FRAME_COUNT), cap.get(cv2.CAP_PROP_FPS)))\n",
    "\n",
    "time_stamp = [None]*length\n",
    "frame_number = [None]*length\n",
    "annotation_list = [None]*length\n",
    "position = 0\n",
    "\n",
    "image = np.zeros((900, 500, 3), np.uint8)\n",
    "image[:] = (255, 255, 255)\n",
    "\n",
    "y0, dy = 50, 4\n",
    "for i, line in enumerate(behWinText.split(\"\\n\")):\n",
    "    y = y0 + i*50\n",
    "    cv2.putText(image, line, (50, y ), cv2.FONT_HERSHEY_DUPLEX, 1, 2, lineType=cv2.LINE_AA)\n",
    "\n",
    "def onChange(trackbarValue):\n",
    "    # value is updated\n",
    "    pass    \n",
    "\n",
    "cv2.namedWindow(videoFile, cv2.WINDOW_NORMAL)\n",
    "cv2.resizeWindow(videoFile,900,700)\n",
    "cv2.namedWindow(\"behCodes\")\n",
    "cv2.createTrackbar( 'mybar', videoFile, 0, length,onChange)\n",
    "# trackbarName, windowName, value, count, onChange\n",
    "\n",
    "while cap.isOpened():\n",
    "    start = cv2.getTrackbarPos('mybar',videoFile)\n",
    "    cap.set(cv2.CAP_PROP_POS_FRAMES,start) # propId, value\n",
    "    ret,frame = cap.read()\n",
    "  \n",
    "    if ret == True:   \n",
    "        text = \"frame:{} time:{}ms {}\".format(frame_number[position], time_stamp[position], annotation_list[position])\n",
    "        cv2.putText(frame, text,(0,100),cv2.FONT_HERSHEY_DUPLEX, 1.0, (255, 0, 0), lineType=cv2.LINE_AA)\n",
    "        cv2.resize(frame, (900, 700))\n",
    "        cv2.imshow(videoFile, frame)\n",
    "        \n",
    "        position = int(cap.get(cv2.CAP_PROP_POS_FRAMES))\n",
    "        frame_number[position] = position\n",
    "        time_stamp[position] = int(cap.get(cv2.CAP_PROP_POS_MSEC))\n",
    "\n",
    "        if annotation_list[position] == None:\n",
    "            annotation_list[position] = 'none'\n",
    "            \n",
    "        key = cv2.waitKey(200)& 0xff\n",
    "        key_list = [ord(x) for x in behCodes]\n",
    "        \n",
    "        if key == 27:\n",
    "            break\n",
    "        elif key in key_list:\n",
    "            i = key_list.index(key)\n",
    "            annotation_list[position] = behaviors[i]\n",
    "            cv2.setTrackbarPos('mybar', videoFile, start+1)\n",
    "              \n",
    "    else:\n",
    "        print(\"Last frame is\",position)\n",
    "        cv2.setTrackbarPos('mybar', videoFile, 0)\n",
    "         \n",
    "    cv2.imshow(\"behCodes\", image)\n",
    "    \n",
    "cap.release()\n",
    "cv2.destroyAllWindows()  \n",
    "my_dict = {'frame':frame_number, 'time,ms':time_stamp, 'behavior':annotation_list}\n",
    "df = pd.DataFrame.from_dict(my_dict)\n",
    "df.to_csv('fileName.csv')"
   ]
  },
  {
   "cell_type": "code",
   "execution_count": 11,
   "metadata": {},
   "outputs": [
    {
     "data": {
      "image/png": "[encoded data removed]",
      "text/plain": [
       "<Figure size 432x288 with 4 Axes>"
      ]
     },
     "metadata": {
      "needs_background": "light"
     },
     "output_type": "display_data"
    }
   ],
   "source": [
    "csvFile = 'outputFile.csv'\n",
    "df = pd.read_csv(csvFile, sep=None, engine='python')\n",
    "df = df.iloc[1:,1:]\n",
    "df = df.reset_index()\n",
    "\n",
    "behaviors = list(set(df.behavior))\n",
    "behaviors = [x for x in behaviors if type(x) is str]\n",
    "if 'none' in behaviors:\n",
    "    behaviors.remove('none')\n",
    "behaviors = sorted(behaviors)\n",
    "    \n",
    "time  = []\n",
    "frame = []\n",
    "for behavior in behaviors:\n",
    "    time.append(df['time,ms'][df['behavior'] == behavior])\n",
    "    frame.append(df['index'][df['behavior'] == behavior])\n",
    "    \n",
    "xmax = (max(map(max, time)))\n",
    "x = list(range(40,int(xmax)+40,40))\n",
    "\n",
    "fig, axes = plt.subplots(len(behaviors),1,sharex=True, \n",
    "                         sharey=True)    \n",
    "for i , ax in enumerate(axes):\n",
    "            y = [0]*len(x)\n",
    "            for el in frame[i]:\n",
    "                y[el-1]=1\n",
    "            ax.bar(x,y, width = 30, color='r')\n",
    "            ax.spines['left'].set_visible(False)\n",
    "            ax.spines['right'].set_visible(False)\n",
    "            ax.set_yticks([])\n",
    "\n",
    "            ax.set_ylabel(behaviors[i],fontsize = 10, weight = 'bold', rotation = 45)\n",
    "            ax.yaxis.set_label_coords(-0.02, 0.3)\n",
    "ax.set_xlabel(\"time, ms\",fontsize = 12, weight = 'bold')        \n",
    "plt.subplots_adjust (hspace = 0)\n",
    "\n",
    "figLabel = videoFile + '.png'\n",
    "fig.savefig(figLabel, dpi = 300)"
   ]
  }
 ],
 "metadata": {
  "kernelspec": {
   "display_name": "Python [conda env:snowflake] *",
   "language": "python",
   "name": "conda-env-snowflake-py"
  },
  "language_info": {
   "codemirror_mode": {
    "name": "ipython",
    "version": 3
   },
   "file_extension": ".py",
   "mimetype": "text/x-python",
   "name": "python",
   "nbconvert_exporter": "python",
   "pygments_lexer": "ipython3",
   "version": "3.7.5"
  }
 },
 "nbformat": 4,
 "nbformat_minor": 2
}
